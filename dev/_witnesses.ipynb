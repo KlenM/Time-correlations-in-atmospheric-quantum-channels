{
 "cells": [
  {
   "cell_type": "code",
   "execution_count": 3,
   "id": "2d958486-96a4-403e-9f57-14bbbf45cafd",
   "metadata": {},
   "outputs": [
    {
     "name": "stdout",
     "output_type": "stream",
     "text": [
      "The autoreload extension is already loaded. To reload it, use:\n",
      "  %reload_ext autoreload\n"
     ]
    }
   ],
   "source": [
    "%load_ext autoreload\n",
    "%autoreload 2"
   ]
  },
  {
   "cell_type": "code",
   "execution_count": 110,
   "id": "dead04de-8822-43eb-b0db-6fb53d466afb",
   "metadata": {},
   "outputs": [],
   "source": [
    "import numpy as np\n",
    "\n",
    "import myaqc\n",
    "\n",
    "from src import utils\n",
    "from src.entanglement import _gaussian_entanglement_threshold, gaussian_entanglement_threshold, GaussianEntanglementPlot, delayed_witnessess\n",
    "from src.correlations import get_correlations"
   ]
  },
  {
   "cell_type": "code",
   "execution_count": 82,
   "id": "e2b9871a-ee0b-42fd-a53a-bc7fcf5f6781",
   "metadata": {},
   "outputs": [],
   "source": [
    "# Calculate data"
   ]
  },
  {
   "cell_type": "code",
   "execution_count": 195,
   "id": "200d3c6d-17db-42b9-93f5-2d37a1401b82",
   "metadata": {},
   "outputs": [],
   "source": [
    "CHANNELS = ['weak', 'moderate', 'strong_d2', 'strong', 'strong_x1_5']\n",
    "SQUEEZING = [1.6, 1.8, 2, 2.2, 2.4, 3]"
   ]
  },
  {
   "cell_type": "code",
   "execution_count": 196,
   "id": "44afe668-95b8-49ad-afa7-33f78f2603d3",
   "metadata": {},
   "outputs": [],
   "source": [
    "import json"
   ]
  },
  {
   "cell_type": "code",
   "execution_count": 197,
   "id": "d1cc41b0-7105-4d45-8e81-5189c5976992",
   "metadata": {},
   "outputs": [],
   "source": [
    "result = []\n",
    "for channel_name in CHANNELS:\n",
    "    data = {'channel_name': channel_name}\n",
    "    data['aperture_radii'], data['spatial_coherence_radii'] = get_correlations(channel_name)\n",
    "    \n",
    "    max_wind_shift = np.asarray([gaussian_entanglement_threshold(channel_name, a, SQUEEZING).tolist() for a in data['aperture_radii']]).T.tolist()\n",
    "    data[f'max_wind_shift_for_xi'] = [{'xi': xi, 'max_wind_shift': value} for xi, value in zip(SQUEEZING, max_wind_shift)]\n",
    "    result.append(data)\n"
   ]
  },
  {
   "cell_type": "code",
   "execution_count": 198,
   "id": "262ca6bc-c935-4273-876b-68fb80865153",
   "metadata": {},
   "outputs": [],
   "source": [
    "with open('witnesses.json', 'w') as f:\n",
    "    json.dump(result, f, indent=4)"
   ]
  },
  {
   "cell_type": "code",
   "execution_count": 199,
   "id": "5c9802da-fa80-4b96-97a9-12afea665101",
   "metadata": {},
   "outputs": [
    {
     "name": "stdout",
     "output_type": "stream",
     "text": [
      "[{\"channel_name\": \"weak\", \"aperture_radii\": [0.0006, 0.0008, 0.001, 0.0015, 0.002, 0.0025, 0.0035, 0.0045, 0.006, 0.008], \"spatial_coherence_radii\": [0.03381843334157733, 0.033879630567855215, 0.03395885697171021, 0.034124056885097134, 0.03437795705867647, 0.0346720359619632, 0.035249211716775176, 0.03578710837738358, 0.03649159162417728, 0.03708159453719732], \"max_wind_shift_for_xi\": [{\"xi\": 1.6, \"max_wind_shift\": [NaN, NaN, NaN, NaN, NaN, NaN, NaN, NaN, NaN, NaN]}, {\"xi\": 1.8, \"max_wind_shift\": [NaN, NaN, NaN, NaN, NaN, NaN, NaN, NaN, NaN, NaN]}, {\"xi\": 2, \"max_wind_shift\": [NaN, NaN, NaN, NaN, NaN, NaN, NaN, NaN, NaN, NaN]}, {\"xi\": 2.2, \"max_wind_shift\": [0.040167950378516955, NaN, NaN, NaN, NaN, NaN, NaN, NaN, NaN, NaN]}, {\"xi\": 2.4, \"max_wind_shift\": [0.012865396034693445, 0.06148490641088395, NaN, NaN, NaN, NaN, NaN, NaN, NaN, NaN]}, {\"xi\": 3, \"max_wind_shift\": [0.0, 0.010518368931913945, 0.010635084718846296, 0.010894234877635809, 0.011295140590146987, 0.011758665985165277, 0.012798252984457295, 0.01404956509170686, 0.01697349810561782, 0.025084130381307607]}]}, {\"channel_name\": \"moderate\", \"aperture_radii\": [0.001, 0.0015, 0.0021, 0.0031, 0.0045, 0.0066, 0.0097, 0.014, 0.021, 0.03], \"spatial_coherence_radii\": [0.021794354717885038, 0.021958640000391817, 0.022225395298265737, 0.022721231318024268, 0.023624028131774187, 0.025042534388142988, 0.027846867317102706, 0.03135352338615335, 0.036065682473620055, 0.03825106886275218], \"max_wind_shift_for_xi\": [{\"xi\": 1.6, \"max_wind_shift\": [0.0, 0.0, 0.0, 0.0, 0.013349178203252848, 0.019187700911426138, 0.026586046949126276, NaN, NaN, NaN]}, {\"xi\": 1.8, \"max_wind_shift\": [0.0, 0.0, 0.0, 0.0, 0.008487948562448427, 0.012865227705418323, 0.01633063797501085, 0.025140669271144556, NaN, NaN]}, {\"xi\": 2, \"max_wind_shift\": [0.0, 0.0, 0.0, 0.0, 0.005307529689617105, 0.009146928860021896, 0.011666249307935432, 0.016345749832790094, NaN, NaN]}, {\"xi\": 2.2, \"max_wind_shift\": [0.0, 0.0, 0.0, 0.0, 0.001989793028067462, 0.006624164257985568, 0.008522169194986717, 0.011844811613419196, 0.02272222879145751, NaN]}, {\"xi\": 2.4, \"max_wind_shift\": [0.0, 0.0, 0.0, 0.0, 0.0, 0.004911694712400204, 0.006261562811644555, 0.00880393652469297, 0.015506848956805274, NaN]}, {\"xi\": 3, \"max_wind_shift\": [0.0, 0.0, 0.0, 0.0, 0.0, 0.0, 0.0009917606597973855, 0.003226885088528658, 0.006368547916108382, 0.01424752076778025]}]}, {\"channel_name\": \"strong_d2\", \"aperture_radii\": [0.004, 0.006, 0.01, 0.02, 0.05, 0.1, 0.2, 0.3], \"spatial_coherence_radii\": [0.052708881858154005, 0.052970165703629106, 0.05365668427890309, 0.05633562169184605, 0.07292931677849511, 0.09698882537079415, 0.13550021622719294, 0.15556887103877504], \"max_wind_shift_for_xi\": [{\"xi\": 1.6, \"max_wind_shift\": [0.0, 0.0, 0.0, 0.0, 0.04446327283848569, 0.07205839131325996, NaN, NaN]}, {\"xi\": 1.8, \"max_wind_shift\": [0.0, 0.0, 0.0, 0.0, 0.03526592856078645, 0.05386180671961841, 0.16714458330474116, NaN]}, {\"xi\": 2, \"max_wind_shift\": [0.0, 0.0, 0.0, 0.0, 0.02834417801106936, 0.04146931684196401, 0.0967827635683581, NaN]}, {\"xi\": 2.2, \"max_wind_shift\": [0.0, 0.0, 0.0, 0.0, 0.022611252923735614, 0.0330372946534174, 0.07000504788983894, NaN]}, {\"xi\": 2.4, \"max_wind_shift\": [0.0, 0.0, 0.0, 0.0, 0.01765548380591307, 0.027283910595672832, 0.053004507480315065, 0.16624434721363193]}, {\"xi\": 3, \"max_wind_shift\": [0.0, 0.0, 0.0, 0.0, 0.00734930592498341, 0.01515804305414756, 0.027178642077201928, 0.05299807078293147]}]}, {\"channel_name\": \"strong\", \"aperture_radii\": [0.004, 0.006, 0.01, 0.02, 0.05, 0.1, 0.2, 0.3], \"spatial_coherence_radii\": [0.0455436195634092, 0.04611905832843399, 0.04703066242889439, 0.050493033554013585, 0.06636093565240256, 0.08757911249837096, 0.12291156798090086, 0.14553648933519542], \"max_wind_shift_for_xi\": [{\"xi\": 1.6, \"max_wind_shift\": [0.0, 0.0, 0.0, 0.0, 0.03702601429508051, 0.057170718623520134, 0.1202050296922377, NaN]}, {\"xi\": 1.8, \"max_wind_shift\": [0.0, 0.0, 0.0, 0.0, 0.028585478868720177, 0.042899818420961536, 0.0822805395527625, NaN]}, {\"xi\": 2, \"max_wind_shift\": [0.0, 0.0, 0.0, 0.0, 0.02122465893369712, 0.03290754927803607, 0.061885049728589374, 0.11768725566088918]}, {\"xi\": 2.2, \"max_wind_shift\": [0.0, 0.0, 0.0, 0.0, 0.014153641656200422, 0.025825707950234346, 0.04755301091740902, 0.08175089652649795]}, {\"xi\": 2.4, \"max_wind_shift\": [0.0, 0.0, 0.0, 0.0, 0.007249358592918287, 0.01909103422912496, 0.037244573303226926, 0.06112079559277843]}, {\"xi\": 3, \"max_wind_shift\": [0.0, 0.0, 0.0, 0.0, 0.0, 0.0, 0.01971422520440318, 0.026605725867252208]}]}, {\"channel_name\": \"strong_x1_5\", \"aperture_radii\": [0.004, 0.006, 0.01, 0.02, 0.05, 0.1, 0.2, 0.3], \"spatial_coherence_radii\": [0.04220533076262219, 0.04280044115590254, 0.0442857212388896, 0.04879762576870583, 0.06432479361079399, 0.08423948503988504, 0.11610261752076041, 0.14040222041637573], \"max_wind_shift_for_xi\": [{\"xi\": 1.6, \"max_wind_shift\": [0.0, 0.0, 0.0, 0.0, 0.03728635233507656, 0.059486135468086225, 0.10523594717915168, NaN]}, {\"xi\": 1.8, \"max_wind_shift\": [0.0, 0.0, 0.0, 0.0, 0.028551114777068565, 0.045812057863073366, 0.0769244953750893, 0.1357607931088409]}, {\"xi\": 2, \"max_wind_shift\": [0.0, 0.0, 0.0, 0.0, 0.02104489410743314, 0.03611082891144883, 0.059492351565757294, 0.09306973030763813]}, {\"xi\": 2.2, \"max_wind_shift\": [0.0, 0.0, 0.0, 0.0, 0.013869225396335566, 0.029292044889246395, 0.046804166422922365, 0.06963882754302533]}, {\"xi\": 2.4, \"max_wind_shift\": [0.0, 0.0, 0.0, 0.0, 0.007030021962106241, 0.02414847128324, 0.03728014370560347, 0.05429464936431341]}, {\"xi\": 3, \"max_wind_shift\": [0.0, 0.0, 0.0, 0.0, 0.0, 0.009959556151386757, 0.020465628735832336, 0.02862221252352567]}]}]\n"
     ]
    }
   ],
   "source": [
    "print(json.dumps(result))"
   ]
  }
 ],
 "metadata": {
  "kernelspec": {
   "display_name": "Python 3 (ipykernel)",
   "language": "python",
   "name": "python3"
  },
  "language_info": {
   "codemirror_mode": {
    "name": "ipython",
    "version": 3
   },
   "file_extension": ".py",
   "mimetype": "text/x-python",
   "name": "python",
   "nbconvert_exporter": "python",
   "pygments_lexer": "ipython3",
   "version": "3.11.6"
  }
 },
 "nbformat": 4,
 "nbformat_minor": 5
}
